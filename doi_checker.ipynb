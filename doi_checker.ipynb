{
 "cells": [
  {
   "cell_type": "code",
   "execution_count": 2,
   "id": "13033e97-dfb9-4b8f-98b3-91f9d57bb69a",
   "metadata": {},
   "outputs": [],
   "source": [
    "library(retractcheck)"
   ]
  },
  {
   "cell_type": "code",
   "execution_count": null,
   "id": "5f6fd839-2092-4c0b-9b34-3805bb117ac3",
   "metadata": {},
   "outputs": [],
   "source": [
    "csv_name <- 'dois.csv'\n",
    "data <- read.csv(csv_name)"
   ]
  },
  {
   "cell_type": "code",
   "execution_count": null,
   "id": "b3fff78d-5117-4b6f-82a6-295d3a9c0e41",
   "metadata": {},
   "outputs": [],
   "source": [
    "column <- 'DOI'\n",
    "results <- retractcheck(data[column])\n"
   ]
  },
  {
   "cell_type": "code",
   "execution_count": null,
   "id": "3a650dc4-0069-4478-949f-7b90fcca3268",
   "metadata": {},
   "outputs": [],
   "source": [
    "write.csv(results, 'results.csv')"
   ]
  }
 ],
 "metadata": {
  "kernelspec": {
   "display_name": "Python 3",
   "language": "python",
   "name": "python3"
  },
  "language_info": {
   "codemirror_mode": {
    "name": "ipython",
    "version": 3
   },
   "file_extension": ".py",
   "mimetype": "text/x-python",
   "name": "python",
   "nbconvert_exporter": "python",
   "pygments_lexer": "ipython3",
   "version": "3.8.2"
  }
 },
 "nbformat": 4,
 "nbformat_minor": 5
}
